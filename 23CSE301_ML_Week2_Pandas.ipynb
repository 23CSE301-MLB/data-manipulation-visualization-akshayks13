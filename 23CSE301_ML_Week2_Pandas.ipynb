{
  "cells": [
    {
      "cell_type": "code",
      "execution_count": 2,
      "metadata": {
        "id": "5C5GP0qzZxIg"
      },
      "outputs": [],
      "source": [
        "import pandas as pd"
      ]
    },
    {
      "cell_type": "code",
      "execution_count": null,
      "metadata": {
        "id": "FGX-cvJPZ7MC"
      },
      "outputs": [],
      "source": [
        "df = pd.read_csv('/content/sample_data/california_housing_test.csv')"
      ]
    },
    {
      "cell_type": "code",
      "execution_count": null,
      "metadata": {
        "id": "lXtx2M0xaE8Q"
      },
      "outputs": [],
      "source": [
        "df.head()              # first 5 rows"
      ]
    },
    {
      "cell_type": "code",
      "execution_count": null,
      "metadata": {
        "id": "sTvCIkiPaIec"
      },
      "outputs": [],
      "source": [
        "df.tail(3)             # last 3 rows"
      ]
    },
    {
      "cell_type": "code",
      "execution_count": null,
      "metadata": {
        "id": "9pXSPiNgaKRE"
      },
      "outputs": [],
      "source": [
        "df.shape               # (rows, columns)"
      ]
    },
    {
      "cell_type": "code",
      "execution_count": null,
      "metadata": {
        "id": "Cdtv5iM-aMR9"
      },
      "outputs": [],
      "source": [
        "df.info()              # summary info"
      ]
    },
    {
      "cell_type": "code",
      "execution_count": null,
      "metadata": {
        "id": "LcfzirUFaOPM"
      },
      "outputs": [],
      "source": [
        "df.describe()          # statistical summary"
      ]
    },
    {
      "cell_type": "code",
      "execution_count": null,
      "metadata": {
        "id": "02tmLfRHaQrM"
      },
      "outputs": [],
      "source": [
        "df.columns             # list of columns"
      ]
    },
    {
      "cell_type": "code",
      "execution_count": null,
      "metadata": {
        "id": "4pQHjmi4aTEs"
      },
      "outputs": [],
      "source": [
        "df.index               # row index"
      ]
    },
    {
      "cell_type": "code",
      "execution_count": null,
      "metadata": {
        "id": "OPgLKMVsaVeU"
      },
      "outputs": [],
      "source": [
        "df.dtypes              # data types of columns"
      ]
    },
    {
      "cell_type": "code",
      "execution_count": null,
      "metadata": {
        "id": "4pYcHAY7aYMF"
      },
      "outputs": [],
      "source": [
        "df.isnull().sum()      # count missing values"
      ]
    },
    {
      "cell_type": "code",
      "execution_count": null,
      "metadata": {
        "id": "wW6gmx3RiCxU"
      },
      "outputs": [],
      "source": [
        "df.isnull()"
      ]
    },
    {
      "cell_type": "code",
      "execution_count": null,
      "metadata": {
        "id": "GDsICu32aZlE"
      },
      "outputs": [],
      "source": [
        "df['longitude']"
      ]
    },
    {
      "cell_type": "code",
      "execution_count": null,
      "metadata": {
        "id": "aBucuybhahEE"
      },
      "outputs": [],
      "source": [
        "df[['longitude', 'total_bedrooms']]"
      ]
    },
    {
      "cell_type": "code",
      "execution_count": null,
      "metadata": {
        "id": "V2jgWRBBaluU"
      },
      "outputs": [],
      "source": [
        "df.iloc[1]             # first row"
      ]
    },
    {
      "cell_type": "code",
      "execution_count": null,
      "metadata": {
        "id": "2RpAMfoNaqal"
      },
      "outputs": [],
      "source": [
        "df.loc[0]              # row with index label 1"
      ]
    },
    {
      "cell_type": "code",
      "execution_count": null,
      "metadata": {
        "id": "HQM-G1r_ayiW"
      },
      "outputs": [],
      "source": [
        "df[df['longitude'] > -120]"
      ]
    },
    {
      "cell_type": "code",
      "execution_count": null,
      "metadata": {
        "id": "J4lk7QXYa889"
      },
      "outputs": [],
      "source": [
        "df[(df['longitude'] > -120) & (df['latitude'] < 35)]"
      ]
    },
    {
      "cell_type": "code",
      "execution_count": null,
      "metadata": {
        "id": "8mHK0-IEbHZd"
      },
      "outputs": [],
      "source": [
        "df.sort_values('total_rooms')                 # ascending"
      ]
    },
    {
      "cell_type": "code",
      "execution_count": null,
      "metadata": {
        "id": "CLM3lxUSbP6c"
      },
      "outputs": [],
      "source": [
        "df.sort_values('total_bedrooms', ascending=False)  # descending"
      ]
    },
    {
      "cell_type": "code",
      "execution_count": null,
      "metadata": {
        "id": "xsIDshjEbWGV"
      },
      "outputs": [],
      "source": [
        "df['house_value_IRS'] = df['median_house_value'] * 85"
      ]
    },
    {
      "cell_type": "code",
      "execution_count": null,
      "metadata": {
        "id": "Me_K_KTBbvkO"
      },
      "outputs": [],
      "source": [
        "df.head()"
      ]
    },
    {
      "cell_type": "code",
      "execution_count": null,
      "metadata": {
        "id": "mSIeyqqrby2O"
      },
      "outputs": [],
      "source": [
        "df.drop('house_value_IRS', axis=1, inplace=True)"
      ]
    },
    {
      "cell_type": "code",
      "execution_count": null,
      "metadata": {
        "id": "SqJj8eBdb5Vl"
      },
      "outputs": [],
      "source": [
        "df.drop(1, axis=0, inplace=True)"
      ]
    },
    {
      "cell_type": "code",
      "execution_count": null,
      "metadata": {
        "id": "917I1xThb92O"
      },
      "outputs": [],
      "source": [
        "df.isnull()"
      ]
    },
    {
      "cell_type": "code",
      "execution_count": null,
      "metadata": {
        "id": "PKiOHOsmcI6P"
      },
      "outputs": [],
      "source": [
        "df.fillna(0)"
      ]
    },
    {
      "cell_type": "code",
      "execution_count": null,
      "metadata": {
        "id": "xAv25trXcMd2"
      },
      "outputs": [],
      "source": [
        "df.dropna()"
      ]
    },
    {
      "cell_type": "code",
      "execution_count": null,
      "metadata": {
        "id": "V1HQ-e8ucOd2"
      },
      "outputs": [],
      "source": [
        "from sklearn.datasets import load_iris\n",
        "import pandas as pd\n",
        "\n",
        "iris = load_iris()\n",
        "df = pd.DataFrame(iris.data, columns=iris.feature_names)\n",
        "df['target'] = iris.target"
      ]
    },
    {
      "cell_type": "code",
      "execution_count": null,
      "metadata": {
        "id": "5EzaUgAecj95"
      },
      "outputs": [],
      "source": [
        "df.groupby('target').mean()"
      ]
    },
    {
      "cell_type": "code",
      "execution_count": null,
      "metadata": {
        "id": "t7XqLifQcpbS"
      },
      "outputs": [],
      "source": [
        "df1 = pd.read_csv('/content/sample_data/california_housing_train.csv')\n",
        "df2 = pd.read_csv('/content/sample_data/california_housing_test.csv')"
      ]
    },
    {
      "cell_type": "code",
      "execution_count": null,
      "metadata": {
        "id": "WUSrv46hc05J"
      },
      "outputs": [],
      "source": [
        "df1.shape"
      ]
    },
    {
      "cell_type": "code",
      "execution_count": null,
      "metadata": {
        "id": "fbUPZls_c3Hj"
      },
      "outputs": [],
      "source": [
        "df2.shape"
      ]
    },
    {
      "cell_type": "code",
      "execution_count": null,
      "metadata": {
        "id": "YUB4Y2Bzc48i"
      },
      "outputs": [],
      "source": [
        "pd.merge(df1, df2, on='latitude')"
      ]
    },
    {
      "cell_type": "code",
      "execution_count": null,
      "metadata": {
        "id": "XqCDIiPbdL2L"
      },
      "outputs": [],
      "source": [
        "df.columns"
      ]
    },
    {
      "cell_type": "code",
      "execution_count": null,
      "metadata": {
        "id": "_yGgB4pJdWFx"
      },
      "outputs": [],
      "source": [
        "df.rename(columns={'sepal length (cm)': 'SepLen'}, inplace=True)"
      ]
    },
    {
      "cell_type": "code",
      "execution_count": null,
      "metadata": {
        "id": "-yfONh74dawy"
      },
      "outputs": [],
      "source": [
        "df1.to_csv('output.csv', index=False)"
      ]
    },
    {
      "cell_type": "code",
      "execution_count": null,
      "metadata": {
        "id": "asoMikYRdfrS"
      },
      "outputs": [],
      "source": [
        "df2.to_excel('output.xlsx', index=False)"
      ]
    },
    {
      "cell_type": "code",
      "execution_count": null,
      "metadata": {
        "id": "cRh1Nj--di_r"
      },
      "outputs": [],
      "source": [
        "df['SepLen'].mean()"
      ]
    },
    {
      "cell_type": "code",
      "execution_count": null,
      "metadata": {
        "id": "Bkbmcb_Odx_y"
      },
      "outputs": [],
      "source": [
        "df['SepLen'].sum()"
      ]
    },
    {
      "cell_type": "code",
      "execution_count": null,
      "metadata": {
        "id": "a0XTEtggdzQZ"
      },
      "outputs": [],
      "source": [
        "df['SepLen'].max()"
      ]
    },
    {
      "cell_type": "code",
      "execution_count": null,
      "metadata": {
        "id": "dDg71PA6d1Dp"
      },
      "outputs": [],
      "source": [
        "df['SepLen'].min()"
      ]
    },
    {
      "cell_type": "code",
      "execution_count": null,
      "metadata": {
        "id": "hmSbMOaCd2rB"
      },
      "outputs": [],
      "source": [
        "df['SepLen'].count()"
      ]
    },
    {
      "cell_type": "code",
      "execution_count": null,
      "metadata": {
        "id": "JLB1qwFDd4QK"
      },
      "outputs": [],
      "source": [
        "df['SepLen'].std()"
      ]
    },
    {
      "cell_type": "code",
      "execution_count": null,
      "metadata": {
        "id": "498eenxmd5yC"
      },
      "outputs": [],
      "source": [
        "df['SepLen'].var()"
      ]
    },
    {
      "cell_type": "code",
      "execution_count": null,
      "metadata": {
        "id": "YsbDUMvEeFBC"
      },
      "outputs": [],
      "source": [
        "df"
      ]
    },
    {
      "cell_type": "code",
      "execution_count": null,
      "metadata": {
        "id": "bFbXgiBvd68i"
      },
      "outputs": [],
      "source": [
        "df.pivot_table(values='SepLen', index='target')"
      ]
    },
    {
      "cell_type": "code",
      "execution_count": null,
      "metadata": {
        "id": "jYPqmF4QeU-C"
      },
      "outputs": [],
      "source": [
        "def add_bonus(m):\n",
        "    return m + 0.01\n",
        "\n",
        "df['New_SepLen'] = df['SepLen'].apply(add_bonus)"
      ]
    },
    {
      "cell_type": "code",
      "execution_count": null,
      "metadata": {
        "id": "Le9dltOmenQT"
      },
      "outputs": [],
      "source": [
        "df['New_SepWid'] = df['sepal width (cm)'].apply(lambda x: x+0.01)"
      ]
    },
    {
      "cell_type": "code",
      "execution_count": null,
      "metadata": {
        "id": "HcLP87VDex3b"
      },
      "outputs": [],
      "source": [
        "df['SepLen'].plot(kind='bar')"
      ]
    }
  ],
  "metadata": {
    "colab": {
      "provenance": []
    },
    "kernelspec": {
      "display_name": "Python 3",
      "name": "python3"
    },
    "language_info": {
      "codemirror_mode": {
        "name": "ipython",
        "version": 3
      },
      "file_extension": ".py",
      "mimetype": "text/x-python",
      "name": "python",
      "nbconvert_exporter": "python",
      "pygments_lexer": "ipython3",
      "version": "3.12.0"
    }
  },
  "nbformat": 4,
  "nbformat_minor": 0
}
